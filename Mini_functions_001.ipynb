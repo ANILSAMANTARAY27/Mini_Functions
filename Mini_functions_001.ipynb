{
 "cells": [
  {
   "cell_type": "code",
   "execution_count": 2,
   "id": "f65626ad",
   "metadata": {},
   "outputs": [
    {
     "name": "stdout",
     "output_type": "stream",
     "text": [
      "Apple\n",
      "Mango\n",
      "Lemon\n",
      "Lime\n",
      "Apricot\n",
      "Avocado\n",
      "Lychee\n"
     ]
    }
   ],
   "source": [
    "fruits = [\n",
    "    \"Apple\", \"Banana\", \"Orange\", \"Mango\", \"Grapes\", \"Strawberry\",\n",
    "    \"Pineapple\", \"Watermelon\", \"Cherry\", \"Peach\", \"Pear\", \"Kiwi\",\n",
    "    \"Blueberry\", \"Raspberry\", \"Blackberry\", \"Lemon\", \"Lime\", \"Cantaloupe\",\n",
    "    \"Pomegranate\", \"Plum\", \"Apricot\", \"Grapefruit\", \"Coconut\", \"Avocado\",\n",
    "    \"Papaya\", \"Guava\", \"Passion fruit\", \"Dragon fruit\", \"Lychee\"\n",
    "]\n",
    "# Function-1\n",
    "def startswith():\n",
    "    for i in fruits:\n",
    "        if i.startswith(('L','A','M')):\n",
    "            print(i)\n",
    "    \n",
    "startswith()"
   ]
  },
  {
   "cell_type": "code",
   "execution_count": 3,
   "id": "16cf0514",
   "metadata": {},
   "outputs": [],
   "source": [
    "fruits.sort()"
   ]
  },
  {
   "cell_type": "code",
   "execution_count": 4,
   "id": "d8dc2203",
   "metadata": {},
   "outputs": [
    {
     "data": {
      "text/plain": [
       "['Apple',\n",
       " 'Apricot',\n",
       " 'Avocado',\n",
       " 'Banana',\n",
       " 'Blackberry',\n",
       " 'Blueberry',\n",
       " 'Cantaloupe',\n",
       " 'Cherry',\n",
       " 'Coconut',\n",
       " 'Dragon fruit',\n",
       " 'Grapefruit',\n",
       " 'Grapes',\n",
       " 'Guava',\n",
       " 'Kiwi',\n",
       " 'Lemon',\n",
       " 'Lime',\n",
       " 'Lychee',\n",
       " 'Mango',\n",
       " 'Orange',\n",
       " 'Papaya',\n",
       " 'Passion fruit',\n",
       " 'Peach',\n",
       " 'Pear',\n",
       " 'Pineapple',\n",
       " 'Plum',\n",
       " 'Pomegranate',\n",
       " 'Raspberry',\n",
       " 'Strawberry',\n",
       " 'Watermelon']"
      ]
     },
     "execution_count": 4,
     "metadata": {},
     "output_type": "execute_result"
    }
   ],
   "source": [
    "fruits"
   ]
  },
  {
   "cell_type": "code",
   "execution_count": 9,
   "id": "4eaee72f",
   "metadata": {},
   "outputs": [
    {
     "name": "stdout",
     "output_type": "stream",
     "text": [
      "Apricot\n",
      "Avocado\n",
      "Blackberry\n",
      "Cantaloupe\n",
      "Cherry\n",
      "Coconut\n",
      "Lychee\n",
      "Peach\n"
     ]
    }
   ],
   "source": [
    "# Function-2\n",
    "def contains():\n",
    "    for i in fruits:\n",
    "        if 'c' in i or 'C' in i:\n",
    "            print(i)\n",
    "contains()"
   ]
  },
  {
   "cell_type": "code",
   "execution_count": 30,
   "id": "db18f58b",
   "metadata": {},
   "outputs": [
    {
     "data": {
      "text/plain": [
       "[['Apple'],\n",
       " ['Banana', 'Blueberry'],\n",
       " ['Cherry', 'Clementine', 'Cranberry'],\n",
       " ['Date', 'Dragon fruit', 'Durian'],\n",
       " ['Grape', 'Guava'],\n",
       " ['Kiwi', 'Kumquat'],\n",
       " ['Lemon', 'Lime', 'Lychee'],\n",
       " ['Mango', 'Mandarin', 'Mulberry'],\n",
       " ['Orange'],\n",
       " ['Papaya',\n",
       "  'Passion fruit',\n",
       "  'Peach',\n",
       "  'Pear',\n",
       "  'Pineapple',\n",
       "  'Plum',\n",
       "  'Pomegranate'],\n",
       " ['Raspberry'],\n",
       " ['Strawberry'],\n",
       " ['Tangerine'],\n",
       " ['Watermelon']]"
      ]
     },
     "execution_count": 30,
     "metadata": {},
     "output_type": "execute_result"
    }
   ],
   "source": [
    "# Function-3\n",
    "def grouped_fruits(fruits):\n",
    "    gr_fruits={}\n",
    "    for f in fruits:\n",
    "        first_letters=f[0].lower()\n",
    "        \n",
    "        if first_letters in gr_fruits:\n",
    "            gr_fruits[first_letters].append(f)\n",
    "        else:\n",
    "            gr_fruits[first_letters]=[f]\n",
    "    \n",
    "    grouped_fruits_list = list(gr_fruits.values())\n",
    "    return grouped_fruits_list\n",
    "\n",
    "c=grouped_fruits(fruits)\n",
    "c\n",
    "  "
   ]
  },
  {
   "cell_type": "code",
   "execution_count": 35,
   "id": "93132a1b",
   "metadata": {},
   "outputs": [
    {
     "name": "stdout",
     "output_type": "stream",
     "text": [
      "['Apple']\n",
      "['Banana', 'Blueberry']\n",
      "['Cherry', 'Clementine', 'Cranberry']\n",
      "['Date', 'Dragon fruit', 'Durian']\n",
      "['Grape', 'Guava']\n",
      "['Kiwi', 'Kumquat']\n",
      "['Lemon', 'Lime', 'Lychee']\n",
      "['Mango', 'Mandarin', 'Mulberry']\n",
      "['Orange']\n",
      "['Papaya', 'Passion fruit', 'Peach', 'Pear', 'Pineapple', 'Plum', 'Pomegranate']\n",
      "['Raspberry']\n",
      "['Strawberry']\n",
      "['Tangerine']\n",
      "['Watermelon']\n"
     ]
    }
   ],
   "source": [
    "c\n",
    "for group in c:\n",
    "    print(group)"
   ]
  },
  {
   "cell_type": "code",
   "execution_count": null,
   "id": "06781d68",
   "metadata": {},
   "outputs": [],
   "source": []
  }
 ],
 "metadata": {
  "kernelspec": {
   "display_name": "Python 3 (ipykernel)",
   "language": "python",
   "name": "python3"
  },
  "language_info": {
   "codemirror_mode": {
    "name": "ipython",
    "version": 3
   },
   "file_extension": ".py",
   "mimetype": "text/x-python",
   "name": "python",
   "nbconvert_exporter": "python",
   "pygments_lexer": "ipython3",
   "version": "3.11.2"
  }
 },
 "nbformat": 4,
 "nbformat_minor": 5
}
